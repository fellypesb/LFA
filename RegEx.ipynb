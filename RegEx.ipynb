{
  "nbformat": 4,
  "nbformat_minor": 0,
  "metadata": {
    "colab": {
      "name": "RegEx.ipynb",
      "provenance": [],
      "collapsed_sections": [],
      "authorship_tag": "ABX9TyPDSA3NbDH/6JG/k58EMaxm",
      "include_colab_link": true
    },
    "kernelspec": {
      "name": "python3",
      "display_name": "Python 3"
    },
    "language_info": {
      "name": "python"
    }
  },
  "cells": [
    {
      "cell_type": "markdown",
      "metadata": {
        "id": "view-in-github",
        "colab_type": "text"
      },
      "source": [
        "<a href=\"https://colab.research.google.com/github/fellypesb/LFA/blob/main/RegEx.ipynb\" target=\"_parent\"><img src=\"https://colab.research.google.com/assets/colab-badge.svg\" alt=\"Open In Colab\"/></a>"
      ]
    },
    {
      "cell_type": "markdown",
      "metadata": {
        "id": "cim4Bv6zqts_"
      },
      "source": [
        "# <center>**Implementação básica de Expressões Regulares**</center>\n",
        "Atividade desenvolvida durante as aulas de Linguagens Formais e Autômatos, ministrada pelo Prof. Dr. Fábio Lobato na Universidade Federal do Oeste do Pará - UFOPA\n",
        "\n",
        "**Discente:** Fellype Siqueira Barroso"
      ]
    },
    {
      "cell_type": "code",
      "metadata": {
        "id": "cM2_OQtg2nUU"
      },
      "source": [
        "# Importação da biblioteca que dá suporte a RegEx no python\n",
        "import re"
      ],
      "execution_count": 1,
      "outputs": []
    },
    {
      "cell_type": "markdown",
      "metadata": {
        "id": "cfos9UDRbbyK"
      },
      "source": [
        "# **Implementação: 1**\n",
        "\n",
        "Uma das principais formas de realizar cadastro em sistemas e aplicativos nos dias atuais, é por meio de um email e senha. Diversos aplicativos, no entanto, restringe o domínio de emails que podem ser cadastrados por fins de segurança. Nesta implementação, buscou-se construir uma $RegEx$ capaz de validar emails de apenas três diferentes domínios:\n",
        "\n",
        "- Gmail\n",
        "- Hotmail\n",
        "- Outlook"
      ]
    },
    {
      "cell_type": "code",
      "metadata": {
        "colab": {
          "base_uri": "https://localhost:8080/"
        },
        "id": "mBux9u5_MA6a",
        "outputId": "304808da-dcd8-454b-fb95-d9435a341f37"
      },
      "source": [
        "def email_pattern(email_list:list):\n",
        "    pattern = re.compile(r'^\\w{3,}([-.+]\\w+)*(@gmail\\.com|@hotmail\\.com|@outlook\\.com)$')\n",
        "    for item in email_list:\n",
        "      m = pattern.match(item)\n",
        "      if m:\n",
        "        print('Match found:', m.group())\n",
        "\n",
        "# Bateria de testes\n",
        "\n",
        "test_list = ['@gmail.com',\n",
        "             'fellypecsiqueira@gmail.com',\n",
        "             '123@hotmail.com',\n",
        "             '@outlook.com',\n",
        "             'f@hotmail.com',\n",
        "             'fabio.lobato@outlook.com',\n",
        "             'LFA.duvidas@gmail.com',\n",
        "             'fellypesiqueira+teste@gmail.com',\n",
        "             'fabio_lobato@hotmail.com']\n",
        "\n",
        "email_pattern(test_list)"
      ],
      "execution_count": 2,
      "outputs": [
        {
          "output_type": "stream",
          "text": [
            "Match found: fellypecsiqueira@gmail.com\n",
            "Match found: 123@hotmail.com\n",
            "Match found: fabio.lobato@outlook.com\n",
            "Match found: LFA.duvidas@gmail.com\n",
            "Match found: fellypesiqueira+teste@gmail.com\n",
            "Match found: fabio_lobato@hotmail.com\n"
          ],
          "name": "stdout"
        }
      ]
    },
    {
      "cell_type": "markdown",
      "metadata": {
        "id": "Vx50jgV5dk2l"
      },
      "source": [
        "## **Explicação da $RegEx$ 1**\n",
        "\n",
        "\n",
        "\n",
        "`^` Meta caracter que busca _matches_ no início da linha;  \n",
        "\n",
        "`\\w` Shorthads que corresponde a qualquer caractere de texto, incluindo sublinhado;  \n",
        "\n",
        "`{3,}` Quantificador que especifica que uma palavra deve conter no mínimo 3 (três) caracteres;  \n",
        "\n",
        "`[-.+]` Especifica um conjunto de caracteres permitidos naquela posição;\n",
        "\n",
        "`\\w+` Corresponde a uma ou mais ocorrências de qualquer caracter de texto;\n",
        "\n",
        "`*` Fechamento de kleine. Indica 0 ou mais ocorrências do símbolo que o precede;  \n",
        "\n",
        "`(@gmail\\.com|@hotmail\\.com|@outlook\\.com)$` Especifica que os sufixos permitidos são apenas um dos 3 (três) que estão separados pelo operador pipe;\n",
        "\n",
        "`|` Operador pipe, funciona de forma semelhante ao operador lógico Or;\n",
        "\n",
        "\n",
        "`\\.` O símbolo '.' funciona como um coringa que representa qualquer caractere diferente de uma quebra de linha. Quando se torna necessário apenas o seu significado literal na expressão, como neste caso, utiliza-se o operador de escape '\\\\' como seu precedente.\n",
        "\n",
        "`$` Meta caracter que busca _matches_ no final da linha;\n"
      ]
    },
    {
      "cell_type": "markdown",
      "metadata": {
        "id": "NC_46vZOTBrj"
      },
      "source": [
        "## **Implementação: 2**\n",
        "Sabendo que o número telefônico brasileiro é formado por 9 dígitos + o prefixo de código de área (DDD) indicando o localidade ao qual pertence. Buscou-se construir uma $RegEx$ capaz de indenticar esse tipo de informação. Além disso, os números deveriam conter parênteses entre o DDD e um hífen de separação entre o 5° e 6° dígitos."
      ]
    },
    {
      "cell_type": "code",
      "metadata": {
        "colab": {
          "base_uri": "https://localhost:8080/"
        },
        "id": "oH2JjgVW4-10",
        "outputId": "56c5983d-36b2-4972-bebd-c7c7fc4fc188"
      },
      "source": [
        "def cell_phone_pattern(number_list:list):\n",
        "  pattern = re.compile(r'[(][1-9]{2}[)] [9]\\d{4}[-]\\d{4}')\n",
        "  for item in number_list:\n",
        "    m = pattern.match(item)\n",
        "    if m:\n",
        "      print('Match found:', m.group())\n",
        "\n",
        "# Bateria de testes\n",
        "\n",
        "test_list = ['(30) 99106-9464',\n",
        "             '(300) 99147-7866',\n",
        "             '(3) 983747-9464',\n",
        "             '(94) 94878-5678',\n",
        "             '(87) 09389-7654',\n",
        "             '(93) 99106-9464',\n",
        "             '(87) 09389-77654',\n",
        "             '(99) 95672-5678',\n",
        "             '45672-5678 (99)']\n",
        "\n",
        "cell_phone_pattern(test_list)"
      ],
      "execution_count": 3,
      "outputs": [
        {
          "output_type": "stream",
          "text": [
            "Match found: (94) 94878-5678\n",
            "Match found: (93) 99106-9464\n",
            "Match found: (99) 95672-5678\n"
          ],
          "name": "stdout"
        }
      ]
    },
    {
      "cell_type": "markdown",
      "metadata": {
        "id": "lk_MpFsPi9ct"
      },
      "source": [
        "## **Explicação da $RegEx$ 2**\n",
        "\n",
        "`[(]` Especifica que apenas o caracter '(' é permitido naquela posição;  \n",
        "\n",
        "`[1-9]{2}` Indica que apenas dígitos entre 1 (um) e 9 (nove) são permitidos, e que deve-se ter 2 (duas) ocorrências desses dígitos. Esses dois digitos representam o DDD associado ao número, que, de acordo com a resolução 263 da ANATEL, pode ser um dos 67 codigos de área existentes que variam de 11 até 99;  \n",
        "\n",
        "`[)]` Especifica que apenas o caracter ')' é permitido naquela posição;\n",
        "\n",
        "`[9]\\d{4}` Indica que o primeiro dígito do número telefônico deve ser o 9, seguido de 4 (quatro) ocorrências de dígitos entre 0 (zero) e 9 (nove). Segundo o plano nacional de numeração, o dígito 9 (nove) no início de um número telefônico faz referência ao serviço de comunição móvel;  \n",
        "\n",
        "`[-]` Especifica que apenas o caracter '-' é permitido naquela posição;  \n",
        "\n",
        "`\\d{4}` Indica que deve ocorrer uma sequência de 4 (quatro) dígitos entre 0 (zero) e 9 (nove) naquela posição.\n",
        "\n",
        "\n"
      ]
    },
    {
      "cell_type": "markdown",
      "metadata": {
        "id": "hpmBKG9JaaTH"
      },
      "source": [
        "# **Implementação: 3**\n",
        "O superlativo expressa qualidades num grau muito elevado ou em grau máximo. Nesta implementação, buscou-se construir uma $RegEx$ capaz de identificar adjetivos com o sufixo $-issimo$."
      ]
    },
    {
      "cell_type": "code",
      "metadata": {
        "colab": {
          "base_uri": "https://localhost:8080/"
        },
        "id": "gRahSzak2Nsc",
        "outputId": "81cbaf54-e438-4b95-ca25-af3dcde955ce"
      },
      "source": [
        "def suffix_pattern(word_list):\n",
        "    pattern = re.compile(r'^[a-zA-Z]+issimo$')\n",
        "    for item in word_list:\n",
        "      m = pattern.match(item)\n",
        "      if m:\n",
        "        print('Match found: ', m.group())\n",
        "\n",
        "test_list = ['felicissimo',\n",
        "             'issimo',\n",
        "             'fidelissimo',\n",
        "             '12345issimo',\n",
        "             'crudelissimo',\n",
        "             'inteligentissimo',\n",
        "             'magris.simo']\n",
        "\n",
        "suffix_pattern(test_list)"
      ],
      "execution_count": 4,
      "outputs": [
        {
          "output_type": "stream",
          "text": [
            "Match found:  felicissimo\n",
            "Match found:  fidelissimo\n",
            "Match found:  crudelissimo\n",
            "Match found:  inteligentissimo\n"
          ],
          "name": "stdout"
        }
      ]
    },
    {
      "cell_type": "markdown",
      "metadata": {
        "id": "hYM9yQ7eoriM"
      },
      "source": [
        "## **Explicação da $RegEx$ 3**\n",
        "\n",
        "`^[a-zA-Z]+` Indica que no início da string pode ocorrer uma ou mais ocorrências de carateres alfabéticos tanto minúsculos quanto maiúsculo;\n",
        "\n",
        "`issimo$` Indica que o sufixo da string deve ser formado pelo conjunto de caracteres -issimo;"
      ]
    }
  ]
}